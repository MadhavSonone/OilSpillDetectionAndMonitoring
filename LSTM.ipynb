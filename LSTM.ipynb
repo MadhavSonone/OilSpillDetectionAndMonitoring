{
 "cells": [
  {
   "cell_type": "code",
   "execution_count": 1,
   "id": "63f968f5-3211-420f-a9d7-ea9ba0a8313c",
   "metadata": {},
   "outputs": [],
   "source": [
    "import pandas as pd\n",
    "from imblearn.over_sampling import ADASYN\n",
    "from sklearn.metrics import precision_recall_curve"
   ]
  },
  {
   "cell_type": "code",
   "execution_count": 2,
   "id": "a8bbb963-57e7-404f-9f0e-459aa2ad2fe5",
   "metadata": {},
   "outputs": [],
   "source": [
    "import numpy as np\n",
    "from sklearn.ensemble import IsolationForest\n",
    "from sklearn.preprocessing import MinMaxScaler\n",
    "import tensorflow as tf\n",
    "from tensorflow.keras.models import Sequential\n",
    "from tensorflow.keras.layers import LSTM, Dense, RepeatVector, TimeDistributed"
   ]
  },
  {
   "cell_type": "code",
   "execution_count": 24,
   "id": "56f49139-582e-43f1-8390-92d1f9ffbfd2",
   "metadata": {},
   "outputs": [],
   "source": [
    "df=pd.read_csv(\"ais_data.csv\")"
   ]
  },
  {
   "cell_type": "code",
   "execution_count": 25,
   "id": "b0504cc0-2c1e-47e2-8d30-5a1eb7b04d98",
   "metadata": {},
   "outputs": [],
   "source": [
    "df.dropna(inplace=True)"
   ]
  },
  {
   "cell_type": "code",
   "execution_count": 26,
   "id": "91ff8244-7398-4661-a783-dc53a5b21d44",
   "metadata": {},
   "outputs": [],
   "source": [
    "if 'shiptype' in df.columns and 'shiptype_encoded' not in df.columns:\n",
    "    df['shiptype_encoded'] = df['shiptype'].astype('category').cat.codes"
   ]
  },
  {
   "cell_type": "code",
   "execution_count": 27,
   "id": "79b6ae04-3704-4885-9940-33d7e06b98c3",
   "metadata": {},
   "outputs": [],
   "source": [
    "final_features = ['sog', 'cog', 'shiptype_encoded'] \n",
    "df_selected = df[final_features].copy()"
   ]
  },
  {
   "cell_type": "code",
   "execution_count": 28,
   "id": "6f04747d-cf90-4349-af20-75d6dab10d47",
   "metadata": {},
   "outputs": [],
   "source": [
    "scaler = MinMaxScaler()\n",
    "df_scaled = scaler.fit_transform(df_selected)"
   ]
  },
  {
   "cell_type": "code",
   "execution_count": 29,
   "id": "89aa1b33-9fbf-40a6-ac60-54c015ddb886",
   "metadata": {},
   "outputs": [],
   "source": [
    "isolation_forest = IsolationForest(contamination=0.05, random_state=42)  # Adjust contamination as needed\n",
    "df['Anomaly'] = isolation_forest.fit_predict(df_selected)"
   ]
  },
  {
   "cell_type": "code",
   "execution_count": 30,
   "id": "3f058fd1-07e2-4a4d-9f33-19b75d05e9ef",
   "metadata": {},
   "outputs": [],
   "source": [
    "df['Anomaly'] = df['Anomaly'].map({1: 0, -1: 1})"
   ]
  },
  {
   "cell_type": "code",
   "execution_count": 31,
   "id": "ceb9e848-0ba8-4d53-b680-c9d2f6498bb7",
   "metadata": {},
   "outputs": [],
   "source": [
    "if 'Anomaly' not in df.columns:\n",
    "    raise KeyError(\"Error: 'Anomaly' column not found in dataset. Ensure anomaly detection is applied.\")\n",
    "\n",
    "normal_data = df[df['Anomaly'] == 0][final_features].copy()\n",
    "normal_scaled = scaler.transform(normal_data)"
   ]
  },
  {
   "cell_type": "code",
   "execution_count": 32,
   "id": "73c9d198-04bc-40ff-8984-3b88a69e69a8",
   "metadata": {},
   "outputs": [],
   "source": [
    "TIME_STEPS = 10  # Define time step window for LSTM\n",
    "def create_sequences(data, time_steps=TIME_STEPS):\n",
    "    sequences = []\n",
    "    for i in range(len(data) - time_steps):\n",
    "        sequences.append(data[i: (i + time_steps)])\n",
    "    return np.array(sequences)\n",
    "\n",
    "train_sequences = create_sequences(normal_scaled)"
   ]
  },
  {
   "cell_type": "code",
   "execution_count": 33,
   "id": "311dbb47-cdfb-4fa0-9daa-db48713edff9",
   "metadata": {},
   "outputs": [
    {
     "name": "stderr",
     "output_type": "stream",
     "text": [
      "C:\\Users\\soham\\AppData\\Local\\Packages\\PythonSoftwareFoundation.Python.3.12_qbz5n2kfra8p0\\LocalCache\\local-packages\\Python312\\site-packages\\keras\\src\\layers\\rnn\\rnn.py:204: UserWarning: Do not pass an `input_shape`/`input_dim` argument to a layer. When using Sequential models, prefer using an `Input(shape)` object as the first layer in the model instead.\n",
      "  super().__init__(**kwargs)\n"
     ]
    }
   ],
   "source": [
    "model = Sequential([\n",
    "    LSTM(64, activation='relu', input_shape=(TIME_STEPS, len(final_features)), return_sequences=True),\n",
    "    LSTM(32, activation='relu', return_sequences=False),\n",
    "    RepeatVector(TIME_STEPS),\n",
    "    LSTM(32, activation='relu', return_sequences=True),\n",
    "    LSTM(64, activation='relu', return_sequences=True),\n",
    "    TimeDistributed(Dense(len(final_features)))\n",
    "])"
   ]
  },
  {
   "cell_type": "code",
   "execution_count": 34,
   "id": "4625cd33-b8d3-468b-adea-2f96cdf8d484",
   "metadata": {},
   "outputs": [],
   "source": [
    "def weighted_mse(y_true, y_pred):\n",
    "    weights = tf.where(y_true == 1, 10.0, 1.0)  # Upweight anomalies\n",
    "    return tf.reduce_mean(weights * tf.square(y_true - y_pred))\n"
   ]
  },
  {
   "cell_type": "code",
   "execution_count": null,
   "id": "e5b2298b-675b-4844-a3a7-e26a2dbba2de",
   "metadata": {},
   "outputs": [
    {
     "name": "stdout",
     "output_type": "stream",
     "text": [
      "Epoch 1/20\n",
      "\u001b[1m8727/8727\u001b[0m \u001b[32m━━━━━━━━━━━━━━━━━━━━\u001b[0m\u001b[37m\u001b[0m \u001b[1m111s\u001b[0m 12ms/step - loss: 0.0598 - val_loss: 0.0248\n",
      "Epoch 2/20\n",
      "\u001b[1m8727/8727\u001b[0m \u001b[32m━━━━━━━━━━━━━━━━━━━━\u001b[0m\u001b[37m\u001b[0m \u001b[1m101s\u001b[0m 12ms/step - loss: 0.0199 - val_loss: 0.0091\n",
      "Epoch 3/20\n",
      "\u001b[1m8727/8727\u001b[0m \u001b[32m━━━━━━━━━━━━━━━━━━━━\u001b[0m\u001b[37m\u001b[0m \u001b[1m102s\u001b[0m 12ms/step - loss: 0.0078 - val_loss: 0.0040\n",
      "Epoch 4/20\n",
      "\u001b[1m8727/8727\u001b[0m \u001b[32m━━━━━━━━━━━━━━━━━━━━\u001b[0m\u001b[37m\u001b[0m \u001b[1m101s\u001b[0m 12ms/step - loss: 0.0036 - val_loss: 0.0026\n",
      "Epoch 5/20\n",
      "\u001b[1m8727/8727\u001b[0m \u001b[32m━━━━━━━━━━━━━━━━━━━━\u001b[0m\u001b[37m\u001b[0m \u001b[1m102s\u001b[0m 12ms/step - loss: 0.0023 - val_loss: 0.0022\n",
      "Epoch 6/20\n",
      "\u001b[1m8727/8727\u001b[0m \u001b[32m━━━━━━━━━━━━━━━━━━━━\u001b[0m\u001b[37m\u001b[0m \u001b[1m103s\u001b[0m 12ms/step - loss: 0.0020 - val_loss: 0.0019\n",
      "Epoch 7/20\n",
      "\u001b[1m8727/8727\u001b[0m \u001b[32m━━━━━━━━━━━━━━━━━━━━\u001b[0m\u001b[37m\u001b[0m \u001b[1m101s\u001b[0m 12ms/step - loss: 0.0013 - val_loss: 8.7720e-04\n",
      "Epoch 8/20\n",
      "\u001b[1m8727/8727\u001b[0m \u001b[32m━━━━━━━━━━━━━━━━━━━━\u001b[0m\u001b[37m\u001b[0m \u001b[1m1205s\u001b[0m 138ms/step - loss: 9.2020e-04 - val_loss: 7.4809e-04\n",
      "Epoch 9/20\n",
      "\u001b[1m8727/8727\u001b[0m \u001b[32m━━━━━━━━━━━━━━━━━━━━\u001b[0m\u001b[37m\u001b[0m \u001b[1m104s\u001b[0m 12ms/step - loss: 7.1993e-04 - val_loss: 9.1622e-04\n",
      "Epoch 10/20\n",
      "\u001b[1m8727/8727\u001b[0m \u001b[32m━━━━━━━━━━━━━━━━━━━━\u001b[0m\u001b[37m\u001b[0m \u001b[1m104s\u001b[0m 12ms/step - loss: 6.8013e-04 - val_loss: 4.2035e-04\n",
      "Epoch 11/20\n",
      "\u001b[1m8727/8727\u001b[0m \u001b[32m━━━━━━━━━━━━━━━━━━━━\u001b[0m\u001b[37m\u001b[0m \u001b[1m112s\u001b[0m 13ms/step - loss: 5.1952e-04 - val_loss: 4.0247e-04\n",
      "Epoch 12/20\n",
      "\u001b[1m8727/8727\u001b[0m \u001b[32m━━━━━━━━━━━━━━━━━━━━\u001b[0m\u001b[37m\u001b[0m \u001b[1m126s\u001b[0m 14ms/step - loss: 5.2476e-04 - val_loss: 4.6347e-04\n",
      "Epoch 13/20\n",
      "\u001b[1m8727/8727\u001b[0m \u001b[32m━━━━━━━━━━━━━━━━━━━━\u001b[0m\u001b[37m\u001b[0m \u001b[1m124s\u001b[0m 14ms/step - loss: 5.1841e-04 - val_loss: 6.8342e-04\n",
      "Epoch 14/20\n",
      "\u001b[1m8727/8727\u001b[0m \u001b[32m━━━━━━━━━━━━━━━━━━━━\u001b[0m\u001b[37m\u001b[0m \u001b[1m123s\u001b[0m 14ms/step - loss: 4.3753e-04 - val_loss: 3.0307e-04\n",
      "Epoch 15/20\n",
      "\u001b[1m8727/8727\u001b[0m \u001b[32m━━━━━━━━━━━━━━━━━━━━\u001b[0m\u001b[37m\u001b[0m \u001b[1m122s\u001b[0m 14ms/step - loss: 4.0206e-04 - val_loss: 2.8079e-04\n",
      "Epoch 16/20\n",
      "\u001b[1m8727/8727\u001b[0m \u001b[32m━━━━━━━━━━━━━━━━━━━━\u001b[0m\u001b[37m\u001b[0m \u001b[1m128s\u001b[0m 15ms/step - loss: 4.1749e-04 - val_loss: 3.6968e-04\n",
      "Epoch 17/20\n",
      "\u001b[1m8727/8727\u001b[0m \u001b[32m━━━━━━━━━━━━━━━━━━━━\u001b[0m\u001b[37m\u001b[0m \u001b[1m150s\u001b[0m 16ms/step - loss: 4.9454e-04 - val_loss: 2.3202e-04\n",
      "Epoch 18/20\n",
      "\u001b[1m8727/8727\u001b[0m \u001b[32m━━━━━━━━━━━━━━━━━━━━\u001b[0m\u001b[37m\u001b[0m \u001b[1m123s\u001b[0m 14ms/step - loss: 3.0182e-04 - val_loss: 2.5026e-04\n",
      "Epoch 19/20\n",
      "\u001b[1m5790/8727\u001b[0m \u001b[32m━━━━━━━━━━━━━\u001b[0m\u001b[37m━━━━━━━\u001b[0m \u001b[1m40s\u001b[0m 14ms/step - loss: 3.0689e-04"
     ]
    }
   ],
   "source": [
    "model.compile(optimizer='adam', loss=weighted_mse)\n",
    "model.fit(train_sequences, train_sequences, epochs=20, batch_size=32, validation_split=0.1)"
   ]
  },
  {
   "cell_type": "code",
   "execution_count": null,
   "id": "670fb373-60eb-42ce-8fb5-16c88a264bae",
   "metadata": {},
   "outputs": [],
   "source": [
    "all_sequences = create_sequences(df_scaled)\n",
    "predictions = model.predict(all_sequences)"
   ]
  },
  {
   "cell_type": "code",
   "execution_count": null,
   "id": "8a06d487-8529-4f16-8f18-7447c7486d48",
   "metadata": {},
   "outputs": [],
   "source": [
    "# Compute reconstruction error\n",
    "mse = np.mean(np.abs(predictions - all_sequences), axis=(1, 2))\n",
    "threshold = np.percentile(mse, 95)  # Set anomaly threshold"
   ]
  },
  {
   "cell_type": "code",
   "execution_count": null,
   "id": "755496a8-d682-4c46-9629-1b72519192d4",
   "metadata": {},
   "outputs": [],
   "source": [
    "y_true = df['Anomaly'].values[-len(mse):]  # Proxy labels\n",
    "precision, recall, thresholds = precision_recall_curve(y_true, mse)\n",
    "f1_scores = (2 * precision * recall) / (precision + recall + 1e-10)\n",
    "optimal_idx = np.argmax(f1_scores)\n",
    "threshold = thresholds[optimal_idx]"
   ]
  },
  {
   "cell_type": "code",
   "execution_count": null,
   "id": "da952af1-b363-4503-a3d7-50c381404bfb",
   "metadata": {},
   "outputs": [],
   "source": [
    "# Assign LSTM-based anomaly labels\n",
    "df.loc[df.index[-len(mse):], 'LSTM_Anomaly'] = (mse > threshold).astype(int)"
   ]
  },
  {
   "cell_type": "code",
   "execution_count": null,
   "id": "d4e044bc-bb41-4a75-a324-5874516e26c4",
   "metadata": {},
   "outputs": [],
   "source": [
    "# Replace cell 17 with this code:\n",
    "# Trim the 'Anomaly' column to match the LSTM_Anomaly length\n",
    "trimmed_anomaly = df['Anomaly'].iloc[-len(mse):].reset_index(drop=True)\n",
    "\n",
    "# Combine with weights\n",
    "df_final = pd.DataFrame({\n",
    "    'Anomaly': trimmed_anomaly,\n",
    "    'LSTM_Anomaly': (mse > threshold).astype(int)\n",
    "})\n",
    "\n",
    "# Weighted fusion\n",
    "df_final['Final_Anomaly'] = (0.7 * df_final['Anomaly'] + 0.3 * df_final['LSTM_Anomaly']) > 0.5\n",
    "\n",
    "# Update the original DataFrame\n",
    "df = df.iloc[-len(mse):].copy()\n",
    "df['Final_Anomaly'] = df_final['Final_Anomaly'].values"
   ]
  },
  {
   "cell_type": "code",
   "execution_count": null,
   "id": "27fb60ac-3528-467c-be78-904d2378d5a4",
   "metadata": {},
   "outputs": [],
   "source": [
    "from sklearn.metrics import accuracy_score, classification_report\n",
    "\n",
    "# Ensure both columns exist and have no NaN values\n",
    "df = df.dropna(subset=['Anomaly', 'LSTM_Anomaly'])\n",
    "\n",
    "# Compute accuracy\n",
    "accuracy = accuracy_score(df['Anomaly'], df['LSTM_Anomaly'])\n",
    "print(f\"Accuracy: {accuracy:.4f}\")\n",
    "\n",
    "# Detailed classification report\n",
    "print(classification_report(df['Anomaly'], df['LSTM_Anomaly']))"
   ]
  },
  {
   "cell_type": "code",
   "execution_count": null,
   "id": "57fbf6b0-d0ef-4b2b-84bd-46091f301b1c",
   "metadata": {},
   "outputs": [],
   "source": [
    "df.to_csv('anomaly_detected_data.csv', index=False)"
   ]
  },
  {
   "cell_type": "code",
   "execution_count": null,
   "id": "4e0c469e-eabf-4889-8fc2-a8f1035d8224",
   "metadata": {},
   "outputs": [],
   "source": [
    "#Saving the trained LSTM Autoencoder model\n",
    "model.save(\"lstm_autoencoder.h5\")\n",
    "print(\"Model saved successfully.\")"
   ]
  },
  {
   "cell_type": "code",
   "execution_count": null,
   "id": "d69b2e6d-61ea-41cf-90cd-2c9dcc89adc7",
   "metadata": {},
   "outputs": [],
   "source": []
  }
 ],
 "metadata": {
  "kernelspec": {
   "display_name": "Python 3 (ipykernel)",
   "language": "python",
   "name": "python3"
  },
  "language_info": {
   "codemirror_mode": {
    "name": "ipython",
    "version": 3
   },
   "file_extension": ".py",
   "mimetype": "text/x-python",
   "name": "python",
   "nbconvert_exporter": "python",
   "pygments_lexer": "ipython3",
   "version": "3.12.9"
  }
 },
 "nbformat": 4,
 "nbformat_minor": 5
}
